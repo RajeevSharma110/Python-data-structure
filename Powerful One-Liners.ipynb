{
 "cells": [
  {
   "cell_type": "raw",
   "id": "407d263b",
   "metadata": {},
   "source": [
    "# The Following are the powerful one-liners in Python Programming.\n",
    "# Python offers a unique set of features!\n",
    "# Python programmers use them to write code quickly and in a more Pythonic way."
   ]
  },
  {
   "cell_type": "raw",
   "id": "3e330866",
   "metadata": {},
   "source": [
    "# For loop in one line\n",
    "- if the for loop body has only one statement, then simply write everything in one line.\n",
    "- printing squares of all the numbers from 10 to 15"
   ]
  },
  {
   "cell_type": "code",
   "execution_count": 3,
   "id": "f4d8e1f0",
   "metadata": {},
   "outputs": [
    {
     "name": "stdout",
     "output_type": "stream",
     "text": [
      "100\n",
      "121\n",
      "144\n",
      "169\n",
      "196\n",
      "225\n"
     ]
    }
   ],
   "source": [
    "for k in range(10,16):print(k**2)"
   ]
  },
  {
   "cell_type": "raw",
   "id": "d918c227",
   "metadata": {},
   "source": [
    "# For loop to create a list \n",
    "- which is called as list comprehension method"
   ]
  },
  {
   "cell_type": "code",
   "execution_count": 4,
   "id": "62619672",
   "metadata": {},
   "outputs": [
    {
     "data": {
      "text/plain": [
       "[100, 121, 144, 169, 196, 225]"
      ]
     },
     "execution_count": 4,
     "metadata": {},
     "output_type": "execute_result"
    }
   ],
   "source": [
    "[k**2 for k in range(10,16)]"
   ]
  },
  {
   "cell_type": "raw",
   "id": "374f4381",
   "metadata": {},
   "source": [
    "# Assigning multiple variables in one line\n",
    "- multiple variables in a single line."
   ]
  },
  {
   "cell_type": "code",
   "execution_count": 5,
   "id": "7eada3cd",
   "metadata": {},
   "outputs": [
    {
     "name": "stdout",
     "output_type": "stream",
     "text": [
      "variable #1 is 10\n",
      "variable #2 is 99\n",
      "variable #3 is 123\n"
     ]
    }
   ],
   "source": [
    "var1, var2, var3 = 10,99,123\n",
    "print(f'variable #1 is {var1}')\n",
    "print(f'variable #2 is {var2}')\n",
    "print(f'variable #3 is {var3}')"
   ]
  },
  {
   "cell_type": "code",
   "execution_count": 6,
   "id": "881aad32",
   "metadata": {},
   "outputs": [
    {
     "name": "stdout",
     "output_type": "stream",
     "text": [
      "(10, 9.99, 'Medium')\n"
     ]
    },
    {
     "data": {
      "text/plain": [
       "tuple"
      ]
     },
     "execution_count": 6,
     "metadata": {},
     "output_type": "execute_result"
    }
   ],
   "source": [
    "var1 = 10, 9.99, \"Medium\"\n",
    "print(var1)\n",
    "type(var1)"
   ]
  },
  {
   "cell_type": "raw",
   "id": "a239924f",
   "metadata": {},
   "source": [
    "Note - As you can see above, all the values assigned to a single variable form a tuple."
   ]
  },
  {
   "cell_type": "raw",
   "id": "8cfddb9f",
   "metadata": {},
   "source": [
    "# Swap the values in one line\n",
    "- Unlike other programming languages, Python eliminated the temporary variable variable while swapping the values of two         variables"
   ]
  },
  {
   "cell_type": "code",
   "execution_count": 7,
   "id": "b6cc38f2",
   "metadata": {},
   "outputs": [
    {
     "name": "stdout",
     "output_type": "stream",
     "text": [
      "Before swapping var1 = 10 and var2 = 9.89\n",
      "After swapping var1 = 9.89 and var2 = 10\n"
     ]
    }
   ],
   "source": [
    "var1 ,var2 = 10, 9.89\n",
    "print(f'Before swapping var1 = {var1} and var2 = {var2}')\n",
    "var1, var2 = var2, var1\n",
    "print(f'After swapping var1 = {var1} and var2 = {var2}')"
   ]
  },
  {
   "cell_type": "raw",
   "id": "d63f6894",
   "metadata": {},
   "source": [
    "# Remove Duplicates in one line\n",
    "\n",
    "- Using Python Data Structures efficently to remove duplicates in a single line.\n",
    "- Simply, convert the list into the set."
   ]
  },
  {
   "cell_type": "code",
   "execution_count": 8,
   "id": "0a94e163",
   "metadata": {},
   "outputs": [
    {
     "name": "stdout",
     "output_type": "stream",
     "text": [
      "Original List = [1, 2, 1, 3, 1, 'Hi', 1.1, 'Hi', True, 'True', 2.5, 3]\n",
      "After removing duplicating = [1, 2, 3, 1.1, 2.5, 'True', 'Hi']\n"
     ]
    }
   ],
   "source": [
    "repeated_values_list = [1,2,1,3,1,\"Hi\",1.1,\"Hi\",True,\"True\",2.5,3]\n",
    "duplicates_removed = list(set(repeated_values_list))\n",
    "print(f\"Original List = {repeated_values_list}\")\n",
    "print(f\"After removing duplicating = {duplicates_removed}\")"
   ]
  },
  {
   "cell_type": "raw",
   "id": "939b44b2",
   "metadata": {},
   "source": [
    "# Import all the libraries in one line\n",
    "- pyforest is a python package which imports all the commonly used packages in a single line.\n",
    "- It is not pre-defined, hence only for the first time use, you need to install it."
   ]
  },
  {
   "cell_type": "raw",
   "id": "54328e67",
   "metadata": {},
   "source": [
    "pip install pyforest"
   ]
  },
  {
   "cell_type": "raw",
   "id": "9a8134d3",
   "metadata": {},
   "source": [
    "import pyforest"
   ]
  }
 ],
 "metadata": {
  "kernelspec": {
   "display_name": "Python 3",
   "language": "python",
   "name": "python3"
  },
  "language_info": {
   "codemirror_mode": {
    "name": "ipython",
    "version": 3
   },
   "file_extension": ".py",
   "mimetype": "text/x-python",
   "name": "python",
   "nbconvert_exporter": "python",
   "pygments_lexer": "ipython3",
   "version": "3.8.8"
  }
 },
 "nbformat": 4,
 "nbformat_minor": 5
}
